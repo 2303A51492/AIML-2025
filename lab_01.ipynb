{
  "nbformat": 4,
  "nbformat_minor": 0,
  "metadata": {
    "colab": {
      "provenance": [],
      "authorship_tag": "ABX9TyNTRH1g2bOCNzrjoB8iquHi",
      "include_colab_link": true
    },
    "kernelspec": {
      "name": "python3",
      "display_name": "Python 3"
    },
    "language_info": {
      "name": "python"
    }
  },
  "cells": [
    {
      "cell_type": "markdown",
      "metadata": {
        "id": "view-in-github",
        "colab_type": "text"
      },
      "source": [
        "<a href=\"https://colab.research.google.com/github/2303A51492/AIML-2025/blob/main/lab_01.ipynb\" target=\"_parent\"><img src=\"https://colab.research.google.com/assets/colab-badge.svg\" alt=\"Open In Colab\"/></a>"
      ]
    },
    {
      "cell_type": "markdown",
      "source": [
        "Part 01: Lab Task is implement the following data structures using Numpy and Pandas.**\n",
        "Lists\n",
        "Arrays\n",
        "Identify their type using type()\n",
        "Perform mathematical operations on these datasets created - multiplication, division, poweroff\n",
        "Combine text with Numpy fuction to generate a textual output - ”Addition of Two: array1 +array 2\n",
        "Implement np.sin(), log(), log2(), np.exp())"
      ],
      "metadata": {
        "id": "qtrXytMAZ4o5"
      }
    },
    {
      "cell_type": "code",
      "source": [
        "import numpy as np\n",
        "lst1=[1,2,3]\n",
        "array1 = np.array(lst1)\n",
        "array1"
      ],
      "metadata": {
        "colab": {
          "base_uri": "https://localhost:8080/"
        },
        "id": "2yG9D3zeZ64g",
        "outputId": "2129a1b8-e861-43af-a58d-016746188a61"
      },
      "execution_count": 1,
      "outputs": [
        {
          "output_type": "execute_result",
          "data": {
            "text/plain": [
              "array([1, 2, 3])"
            ]
          },
          "metadata": {},
          "execution_count": 1
        }
      ]
    },
    {
      "cell_type": "code",
      "source": [
        "type(lst1)"
      ],
      "metadata": {
        "colab": {
          "base_uri": "https://localhost:8080/"
        },
        "id": "49VVV7NraI3n",
        "outputId": "a918e0bf-5cf0-484f-a169-321f23bb5af0"
      },
      "execution_count": 2,
      "outputs": [
        {
          "output_type": "execute_result",
          "data": {
            "text/plain": [
              "list"
            ]
          },
          "metadata": {},
          "execution_count": 2
        }
      ]
    },
    {
      "cell_type": "code",
      "source": [
        "type(array1)"
      ],
      "metadata": {
        "colab": {
          "base_uri": "https://localhost:8080/"
        },
        "id": "wrPQfl0AaNr9",
        "outputId": "443cb175-a2bb-4708-8501-778d7c11f57a"
      },
      "execution_count": 3,
      "outputs": [
        {
          "output_type": "execute_result",
          "data": {
            "text/plain": [
              "numpy.ndarray"
            ]
          },
          "metadata": {},
          "execution_count": 3
        }
      ]
    },
    {
      "cell_type": "markdown",
      "source": [
        "Perform Mathematical Operations on these datasets - Multiplication, Division, Poweroff"
      ],
      "metadata": {
        "id": "7Dv8-nRyaSXl"
      }
    },
    {
      "cell_type": "code",
      "source": [
        "list2=[3,2,1]\n",
        "array2=np.array(list2)\n",
        "array2\n"
      ],
      "metadata": {
        "colab": {
          "base_uri": "https://localhost:8080/"
        },
        "id": "7E4qSNCAaVTO",
        "outputId": "0dceaea5-23cd-41a2-f9f7-2a5c270018da"
      },
      "execution_count": 5,
      "outputs": [
        {
          "output_type": "execute_result",
          "data": {
            "text/plain": [
              "array([3, 2, 1])"
            ]
          },
          "metadata": {},
          "execution_count": 5
        }
      ]
    },
    {
      "cell_type": "code",
      "source": [
        "print(\"array2 multiplied by array1: \",array1*array2)\n",
        "print(\"array2 divided by array1: \",array2/array1)\n",
        "print(\"array2 raised to the power of array1: \",array2**array1)\n",
        "print(f\" {array2} raised to the power of {array1}:,{array2**array1}\")\n"
      ],
      "metadata": {
        "colab": {
          "base_uri": "https://localhost:8080/"
        },
        "id": "vmy1mHNAamKB",
        "outputId": "faa6ca5f-00ff-42b8-ff89-3b69df108ed8"
      },
      "execution_count": 6,
      "outputs": [
        {
          "output_type": "stream",
          "name": "stdout",
          "text": [
            "array2 multiplied by array1:  [3 4 3]\n",
            "array2 divided by array1:  [3.         1.         0.33333333]\n",
            "array2 raised to the power of array1:  [3 4 1]\n",
            " [3 2 1] raised to the power of [1 2 3]:,[3 4 1]\n"
          ]
        }
      ]
    },
    {
      "cell_type": "code",
      "source": [
        "# sine function\n",
        "print(\"Sine: \",np.sin(array1))\n",
        "# logarithm\n",
        "print(\"Natural logarithm: \",np.log(array1))\n",
        "print(\"Base-10 logarithm: \",np.log10(array1))\n",
        "print(\"Base-2 logarithm: \",np.log2(array1))\n",
        "# Exponential\n",
        "print(\"Exponential: \",np.exp(array1))\n"
      ],
      "metadata": {
        "colab": {
          "base_uri": "https://localhost:8080/"
        },
        "id": "xmP_7YMGazLe",
        "outputId": "13c1e6fa-62d5-480b-f33e-f04f8b19fa8b"
      },
      "execution_count": 7,
      "outputs": [
        {
          "output_type": "stream",
          "name": "stdout",
          "text": [
            "Sine:  [0.84147098 0.90929743 0.14112001]\n",
            "Natural logarithm:  [0.         0.69314718 1.09861229]\n",
            "Base-10 logarithm:  [0.         0.30103    0.47712125]\n",
            "Base-2 logarithm:  [0.        1.        1.5849625]\n",
            "Exponential:  [ 2.71828183  7.3890561  20.08553692]\n"
          ]
        }
      ]
    },
    {
      "cell_type": "code",
      "source": [
        "print(\"Adding two numpy arrays {array1} and {array2} together:\", array1+array2)\n"
      ],
      "metadata": {
        "colab": {
          "base_uri": "https://localhost:8080/"
        },
        "id": "EslnxSMrbBPl",
        "outputId": "940c7b36-b8fb-48e4-e1c1-669e2d029b88"
      },
      "execution_count": 8,
      "outputs": [
        {
          "output_type": "stream",
          "name": "stdout",
          "text": [
            "Adding two numpy arrays {array1} and {array2} together: [4 4 4]\n"
          ]
        }
      ]
    },
    {
      "cell_type": "code",
      "source": [
        "print(f\"Adding two numpy arrays {array1} and {array2} together: {array1+array2}\")"
      ],
      "metadata": {
        "colab": {
          "base_uri": "https://localhost:8080/"
        },
        "id": "ANhmjDaybGkn",
        "outputId": "771ff7cb-af29-4936-f0e0-a48ed4c2dd7f"
      },
      "execution_count": 9,
      "outputs": [
        {
          "output_type": "stream",
          "name": "stdout",
          "text": [
            "Adding two numpy arrays [1 2 3] and [3 2 1] together: [4 4 4]\n"
          ]
        }
      ]
    }
  ]
}